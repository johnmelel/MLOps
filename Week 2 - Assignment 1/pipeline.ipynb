{
 "cells": [
  {
   "cell_type": "code",
   "execution_count": null,
   "id": "ee27b4ca",
   "metadata": {},
   "outputs": [],
   "source": [
    "import pandas as pd, numpy as np\n",
    "from sklearn.model_selection import train_test_split\n",
    "from sklearn.ensemble import RandomForestRegressor\n",
    "from sklearn.metrics import mean_absolute_error, root_mean_squared_error, r2_score\n",
    "import json"
   ]
  },
  {
   "cell_type": "code",
   "execution_count": null,
   "id": "f90f4258",
   "metadata": {},
   "outputs": [],
   "source": [
    "data = pd.read_csv(\"data/athletes.csv\")"
   ]
  },
  {
   "cell_type": "code",
   "execution_count": 3,
   "id": "4266e7e8",
   "metadata": {},
   "outputs": [],
   "source": [
    "# Remove not relevant columns\n",
    "data = data.dropna(subset=['region','age','weight','height','howlong','gender','eat', \\\n",
    "                            'train','background','experience','schedule','howlong', \\\n",
    "                            'deadlift','candj','snatch','backsq','experience',\\\n",
    "                            'background','schedule','howlong'])\n",
    "data = data.drop(columns=['affiliate','team','name','athlete_id','fran','helen','grace',\\\n",
    "                            'filthy50','fgonebad','run400','run5k','pullups','train'])"
   ]
  },
  {
   "cell_type": "code",
   "execution_count": 4,
   "id": "4d06e0c3",
   "metadata": {},
   "outputs": [],
   "source": [
    "v1 = data.copy()"
   ]
  },
  {
   "cell_type": "code",
   "execution_count": 5,
   "id": "091d791f",
   "metadata": {},
   "outputs": [],
   "source": [
    "# Remove Outliers\n",
    "\n",
    "data = data[data['weight'] < 1500]\n",
    "data = data[data['gender'] != '--']\n",
    "data = data[data['age'] >= 18]\n",
    "data = data[(data['height'] < 96) & (data['height'] > 48)]\n",
    "\n",
    "data = data[(data['deadlift'] > 0) & (data['deadlift'] <= 1105)|((data['gender'] == 'Female') \\\n",
    "                & (data['deadlift'] <= 636))]\n",
    "data = data[(data['candj'] > 0) & (data['candj'] <= 395)]\n",
    "data = data[(data['snatch'] > 0) & (data['snatch'] <= 496)]\n",
    "data = data[(data['backsq'] > 0) & (data['backsq'] <= 1069)]\n",
    "\n",
    "# Clean Survey Data\n",
    "\n",
    "decline_dict = {'Decline to answer|': np.nan}\n",
    "data = data.replace(decline_dict)\n",
    "data = data.dropna(subset=['background','experience','schedule','howlong','eat'])"
   ]
  },
  {
   "cell_type": "code",
   "execution_count": 6,
   "id": "9252f31d",
   "metadata": {},
   "outputs": [],
   "source": [
    "v2 = data.copy()"
   ]
  },
  {
   "cell_type": "code",
   "execution_count": 14,
   "id": "bcad992f",
   "metadata": {},
   "outputs": [],
   "source": [
    "v1[\"total_lift\"] = v1.deadlift + v1.candj + v1.snatch + v1.backsq\n",
    "train_v1, test_v1 = train_test_split(v1, test_size=0.2, random_state=42)\n",
    "train_v1.to_csv(\"data/v1/train.csv\", index=False)\n",
    "test_v1.to_csv (\"data/v1/test.csv\",  index=False)"
   ]
  },
  {
   "cell_type": "code",
   "execution_count": 15,
   "id": "e3109b2f",
   "metadata": {},
   "outputs": [],
   "source": [
    "v2[\"total_lift\"] = v2.deadlift + v2.candj + v2.snatch + v2.backsq\n",
    "train_v2, test_v2 = train_test_split(v2, test_size=0.2, random_state=42)\n",
    "train_v2.to_csv(\"data/v2/train.csv\", index=False)\n",
    "test_v2.to_csv (\"data/v2/test.csv\",  index=False)"
   ]
  },
  {
   "cell_type": "code",
   "execution_count": null,
   "id": "8c38acd7",
   "metadata": {},
   "outputs": [],
   "source": [
    "X_train, y_train = train_v1.drop(\"total_lift\",1), train_v1.total_lift\n",
    "X_test, y_test = test_v1.drop(\"total_lift\",1), test_v1.total_lift\n",
    "model = RandomForestRegressor(random_state=42).fit(X_train, y_train)\n",
    "preds = model.predict(X_test)\n",
    "metrics = {\n",
    "  \"MAE\": mean_absolute_error(y_test, preds),\n",
    "  \"RMSE\": root_mean_squared_error(y_test, preds, squared=False),\n",
    "  \"R2\": r2_score(y_test, preds)\n",
    "}"
   ]
  }
 ],
 "metadata": {
  "kernelspec": {
   "display_name": "mlops_env",
   "language": "python",
   "name": "python3"
  },
  "language_info": {
   "codemirror_mode": {
    "name": "ipython",
    "version": 3
   },
   "file_extension": ".py",
   "mimetype": "text/x-python",
   "name": "python",
   "nbconvert_exporter": "python",
   "pygments_lexer": "ipython3",
   "version": "3.12.11"
  }
 },
 "nbformat": 4,
 "nbformat_minor": 5
}
