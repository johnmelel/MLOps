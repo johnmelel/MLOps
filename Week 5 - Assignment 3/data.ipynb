{
 "cells": [
  {
   "cell_type": "code",
   "execution_count": 1,
   "id": "abfe872c",
   "metadata": {},
   "outputs": [],
   "source": [
    "import pandas as pd"
   ]
  },
  {
   "cell_type": "code",
   "execution_count": 2,
   "id": "4be408e5",
   "metadata": {},
   "outputs": [
    {
     "data": {
      "text/html": [
       "<div>\n",
       "<style scoped>\n",
       "    .dataframe tbody tr th:only-of-type {\n",
       "        vertical-align: middle;\n",
       "    }\n",
       "\n",
       "    .dataframe tbody tr th {\n",
       "        vertical-align: top;\n",
       "    }\n",
       "\n",
       "    .dataframe thead th {\n",
       "        text-align: right;\n",
       "    }\n",
       "</style>\n",
       "<table border=\"1\" class=\"dataframe\">\n",
       "  <thead>\n",
       "    <tr style=\"text-align: right;\">\n",
       "      <th></th>\n",
       "      <th>region</th>\n",
       "      <th>gender</th>\n",
       "      <th>age</th>\n",
       "      <th>height</th>\n",
       "      <th>weight</th>\n",
       "      <th>candj</th>\n",
       "      <th>snatch</th>\n",
       "      <th>deadlift</th>\n",
       "      <th>backsq</th>\n",
       "      <th>eat</th>\n",
       "      <th>background</th>\n",
       "      <th>experience</th>\n",
       "      <th>schedule</th>\n",
       "      <th>howlong</th>\n",
       "      <th>total_lift</th>\n",
       "    </tr>\n",
       "  </thead>\n",
       "  <tbody>\n",
       "    <tr>\n",
       "      <th>0</th>\n",
       "      <td>South East</td>\n",
       "      <td>Male</td>\n",
       "      <td>35</td>\n",
       "      <td>69</td>\n",
       "      <td>192</td>\n",
       "      <td>295</td>\n",
       "      <td>225</td>\n",
       "      <td>465</td>\n",
       "      <td>400</td>\n",
       "      <td>I eat quality foods but don't measure the amount|</td>\n",
       "      <td>I played youth or high school level sports|I p...</td>\n",
       "      <td>I began CrossFit by trying it alone (without a...</td>\n",
       "      <td>I do multiple workouts in a day 3+ times a week|</td>\n",
       "      <td>4+ years|</td>\n",
       "      <td>1385</td>\n",
       "    </tr>\n",
       "    <tr>\n",
       "      <th>1</th>\n",
       "      <td>Latin America</td>\n",
       "      <td>Male</td>\n",
       "      <td>27</td>\n",
       "      <td>68</td>\n",
       "      <td>164</td>\n",
       "      <td>254</td>\n",
       "      <td>187</td>\n",
       "      <td>397</td>\n",
       "      <td>397</td>\n",
       "      <td>I weigh and measure my food|I eat strict Paleo|</td>\n",
       "      <td>I played youth or high school level sports|I p...</td>\n",
       "      <td>I began CrossFit with a coach (e.g. at an affi...</td>\n",
       "      <td>I do multiple workouts in a day 3+ times a wee...</td>\n",
       "      <td>2-4 years|</td>\n",
       "      <td>1235</td>\n",
       "    </tr>\n",
       "  </tbody>\n",
       "</table>\n",
       "</div>"
      ],
      "text/plain": [
       "          region gender  age  height  weight  candj  snatch  deadlift  backsq  \\\n",
       "0     South East   Male   35      69     192    295     225       465     400   \n",
       "1  Latin America   Male   27      68     164    254     187       397     397   \n",
       "\n",
       "                                                 eat  \\\n",
       "0  I eat quality foods but don't measure the amount|   \n",
       "1    I weigh and measure my food|I eat strict Paleo|   \n",
       "\n",
       "                                          background  \\\n",
       "0  I played youth or high school level sports|I p...   \n",
       "1  I played youth or high school level sports|I p...   \n",
       "\n",
       "                                          experience  \\\n",
       "0  I began CrossFit by trying it alone (without a...   \n",
       "1  I began CrossFit with a coach (e.g. at an affi...   \n",
       "\n",
       "                                            schedule     howlong  total_lift  \n",
       "0   I do multiple workouts in a day 3+ times a week|   4+ years|        1385  \n",
       "1  I do multiple workouts in a day 3+ times a wee...  2-4 years|        1235  "
      ]
     },
     "execution_count": 2,
     "metadata": {},
     "output_type": "execute_result"
    }
   ],
   "source": [
    "df = pd.read_csv(\"athletes_v2.csv\")\n",
    "df.head(2)"
   ]
  },
  {
   "cell_type": "code",
   "execution_count": 3,
   "id": "3134a51d",
   "metadata": {},
   "outputs": [],
   "source": [
    "# Create mapping for gender column\n",
    "gender_mapping = {'Male': 0, 'Female': 1, '--': 1}\n",
    "\n",
    "# Apply mapping to create new column in both datasets\n",
    "df['upd_gender'] = df['gender'].map(gender_mapping)"
   ]
  },
  {
   "cell_type": "code",
   "execution_count": 4,
   "id": "d90464ed",
   "metadata": {},
   "outputs": [],
   "source": [
    "# Create mapping for howlong column with partial matching\n",
    "def map_howlong(value):\n",
    "    if '4+ years' in value:\n",
    "        return 4\n",
    "    elif '2-4 years' in value:\n",
    "        return 3\n",
    "    elif '1-2 years' in value:\n",
    "        return 2\n",
    "    elif '6-12 months' in value:\n",
    "        return 1\n",
    "    elif 'Less than 6 months' in value:\n",
    "        return 0\n",
    "    else:\n",
    "        return None\n",
    "\n",
    "# Apply mapping to create new column in both datasets\n",
    "df['upd_howlong'] = df['howlong'].apply(map_howlong)"
   ]
  },
  {
   "cell_type": "code",
   "execution_count": 5,
   "id": "0f8cf828",
   "metadata": {},
   "outputs": [],
   "source": [
    "# Calculate BMI (weight in lbs, height in inches)\n",
    "df['BMI'] = (df['weight'] / (df['height'] ** 2)) * 703\n",
    "\n",
    "# Calculate relative lifts (lift / bodyweight)\n",
    "rel_lifts = ['candj', 'snatch', 'deadlift', 'backsq']\n",
    "for lift in rel_lifts:\n",
    "    df[f'{lift}_rel'] = df[lift] / df['weight']"
   ]
  },
  {
   "cell_type": "code",
   "execution_count": 6,
   "id": "e2c2bc50",
   "metadata": {},
   "outputs": [],
   "source": [
    "df = df[['upd_gender', 'upd_howlong', 'BMI', 'candj_rel', 'snatch_rel', 'deadlift_rel', 'backsq_rel', 'age', 'weight','total_lift']]"
   ]
  },
  {
   "cell_type": "code",
   "execution_count": 7,
   "id": "c8881089",
   "metadata": {},
   "outputs": [
    {
     "data": {
      "text/html": [
       "<div>\n",
       "<style scoped>\n",
       "    .dataframe tbody tr th:only-of-type {\n",
       "        vertical-align: middle;\n",
       "    }\n",
       "\n",
       "    .dataframe tbody tr th {\n",
       "        vertical-align: top;\n",
       "    }\n",
       "\n",
       "    .dataframe thead th {\n",
       "        text-align: right;\n",
       "    }\n",
       "</style>\n",
       "<table border=\"1\" class=\"dataframe\">\n",
       "  <thead>\n",
       "    <tr style=\"text-align: right;\">\n",
       "      <th></th>\n",
       "      <th>upd_gender</th>\n",
       "      <th>upd_howlong</th>\n",
       "      <th>BMI</th>\n",
       "      <th>candj_rel</th>\n",
       "      <th>snatch_rel</th>\n",
       "      <th>deadlift_rel</th>\n",
       "      <th>backsq_rel</th>\n",
       "      <th>age</th>\n",
       "      <th>weight</th>\n",
       "      <th>total_lift</th>\n",
       "    </tr>\n",
       "  </thead>\n",
       "  <tbody>\n",
       "    <tr>\n",
       "      <th>0</th>\n",
       "      <td>0</td>\n",
       "      <td>4</td>\n",
       "      <td>28.350347</td>\n",
       "      <td>1.536458</td>\n",
       "      <td>1.171875</td>\n",
       "      <td>2.421875</td>\n",
       "      <td>2.083333</td>\n",
       "      <td>35</td>\n",
       "      <td>192</td>\n",
       "      <td>1385</td>\n",
       "    </tr>\n",
       "    <tr>\n",
       "      <th>1</th>\n",
       "      <td>0</td>\n",
       "      <td>3</td>\n",
       "      <td>24.933391</td>\n",
       "      <td>1.548780</td>\n",
       "      <td>1.140244</td>\n",
       "      <td>2.420732</td>\n",
       "      <td>2.420732</td>\n",
       "      <td>27</td>\n",
       "      <td>164</td>\n",
       "      <td>1235</td>\n",
       "    </tr>\n",
       "  </tbody>\n",
       "</table>\n",
       "</div>"
      ],
      "text/plain": [
       "   upd_gender  upd_howlong        BMI  candj_rel  snatch_rel  deadlift_rel  \\\n",
       "0           0            4  28.350347   1.536458    1.171875      2.421875   \n",
       "1           0            3  24.933391   1.548780    1.140244      2.420732   \n",
       "\n",
       "   backsq_rel  age  weight  total_lift  \n",
       "0    2.083333   35     192        1385  \n",
       "1    2.420732   27     164        1235  "
      ]
     },
     "execution_count": 7,
     "metadata": {},
     "output_type": "execute_result"
    }
   ],
   "source": [
    "df.head(2)"
   ]
  },
  {
   "cell_type": "code",
   "execution_count": 8,
   "id": "1ca66fbb",
   "metadata": {},
   "outputs": [],
   "source": [
    "df.to_csv(\"processed_athletes.csv\", index=False)"
   ]
  }
 ],
 "metadata": {
  "kernelspec": {
   "display_name": "mlops_env",
   "language": "python",
   "name": "python3"
  },
  "language_info": {
   "codemirror_mode": {
    "name": "ipython",
    "version": 3
   },
   "file_extension": ".py",
   "mimetype": "text/x-python",
   "name": "python",
   "nbconvert_exporter": "python",
   "pygments_lexer": "ipython3",
   "version": "3.12.11"
  }
 },
 "nbformat": 4,
 "nbformat_minor": 5
}
